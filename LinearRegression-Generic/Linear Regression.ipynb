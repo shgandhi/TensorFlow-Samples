{
 "cells": [
  {
   "cell_type": "code",
   "execution_count": 56,
   "metadata": {},
   "outputs": [
    {
     "output_type": "execute_result",
     "data": {
      "text/plain": [
       "   Longitude  Latitude  HousingMedianAge  TotalRooms  TotalBedrooms  \\\n",
       "0    -122.23     37.88                41         880            129   \n",
       "1    -122.22     37.86                21        7099           1106   \n",
       "2    -122.24     37.85                52        1467            190   \n",
       "3    -122.25     37.85                52        1274            235   \n",
       "4    -122.25     37.85                52        1627            280   \n",
       "\n",
       "   Population  Households  MedianIncomeValue  MedianHouseValue  \n",
       "0         322         126             8.3252            452600  \n",
       "1        2401        1138             8.3014            358500  \n",
       "2         496         177             7.2574            352100  \n",
       "3         558         219             5.6431            341300  \n",
       "4         565         259             3.8462            342200  "
      ],
      "text/html": "<div>\n<style scoped>\n    .dataframe tbody tr th:only-of-type {\n        vertical-align: middle;\n    }\n\n    .dataframe tbody tr th {\n        vertical-align: top;\n    }\n\n    .dataframe thead th {\n        text-align: right;\n    }\n</style>\n<table border=\"1\" class=\"dataframe\">\n  <thead>\n    <tr style=\"text-align: right;\">\n      <th></th>\n      <th>Longitude</th>\n      <th>Latitude</th>\n      <th>HousingMedianAge</th>\n      <th>TotalRooms</th>\n      <th>TotalBedrooms</th>\n      <th>Population</th>\n      <th>Households</th>\n      <th>MedianIncomeValue</th>\n      <th>MedianHouseValue</th>\n    </tr>\n  </thead>\n  <tbody>\n    <tr>\n      <th>0</th>\n      <td>-122.23</td>\n      <td>37.88</td>\n      <td>41</td>\n      <td>880</td>\n      <td>129</td>\n      <td>322</td>\n      <td>126</td>\n      <td>8.3252</td>\n      <td>452600</td>\n    </tr>\n    <tr>\n      <th>1</th>\n      <td>-122.22</td>\n      <td>37.86</td>\n      <td>21</td>\n      <td>7099</td>\n      <td>1106</td>\n      <td>2401</td>\n      <td>1138</td>\n      <td>8.3014</td>\n      <td>358500</td>\n    </tr>\n    <tr>\n      <th>2</th>\n      <td>-122.24</td>\n      <td>37.85</td>\n      <td>52</td>\n      <td>1467</td>\n      <td>190</td>\n      <td>496</td>\n      <td>177</td>\n      <td>7.2574</td>\n      <td>352100</td>\n    </tr>\n    <tr>\n      <th>3</th>\n      <td>-122.25</td>\n      <td>37.85</td>\n      <td>52</td>\n      <td>1274</td>\n      <td>235</td>\n      <td>558</td>\n      <td>219</td>\n      <td>5.6431</td>\n      <td>341300</td>\n    </tr>\n    <tr>\n      <th>4</th>\n      <td>-122.25</td>\n      <td>37.85</td>\n      <td>52</td>\n      <td>1627</td>\n      <td>280</td>\n      <td>565</td>\n      <td>259</td>\n      <td>3.8462</td>\n      <td>342200</td>\n    </tr>\n  </tbody>\n</table>\n</div>"
     },
     "metadata": {},
     "execution_count": 56
    }
   ],
   "source": [
    "import pandas as pd\n",
    "\n",
    "df_data_1 = pd.read_csv('cal_housing_data with headers.csv')\n",
    "df_data_1.head()"
   ]
  },
  {
   "cell_type": "code",
   "execution_count": 57,
   "metadata": {
    "collapsed": true
   },
   "outputs": [],
   "source": [
    "import numpy as np\n",
    "\n",
    "# Make a numpy array from the dataframe\n",
    "data = np.array([x for x in df_data_1.values])\n",
    "\n",
    "# Separate the 'predictors' (aka 'features') from the dependent variable (aka 'label') \n",
    "# that we will learn how to predict\n",
    "housing_data = np.delete(data, 8, axis=1)\n",
    "housing_target = np.delete(data, slice(0, 8), axis=1)\n",
    "\n",
    "# second model without housing median age\n",
    "housing_data_wo_median_age = np.delete(housing_data, 2, axis=1)"
   ]
  },
  {
   "cell_type": "code",
   "execution_count": 58,
   "metadata": {
    "collapsed": true
   },
   "outputs": [],
   "source": [
    "m, n = housing_data.shape\n",
    "housing_data_plus_bias = np.c_[np.ones((m, 1)), housing_data]\n",
    "\n",
    "m_new, n_new = housing_data_wo_median_age.shape\n",
    "housing_data_wo_median_age_plus_bias = np.c_[np.ones((m_new, 1)), housing_data_wo_median_age]"
   ]
  },
  {
   "cell_type": "code",
   "execution_count": 59,
   "metadata": {
    "collapsed": true
   },
   "outputs": [],
   "source": [
    "import tensorflow as tf\n",
    "\n",
    "# Make the compute graph\n",
    "X = tf.constant(housing_data_plus_bias, dtype=tf.float64, name=\"X\")\n",
    "XT = tf.transpose(X)\n",
    "y = tf.constant(housing_target.reshape(-1, 1), dtype=tf.float64, name=\"y\")\n",
    "\n",
    "theta = tf.matmul(tf.matmul(tf.matrix_inverse(tf.matmul(XT, X)), XT), y)\n",
    "\n",
    "# Run the compute graph\n",
    "with tf.Session() as sess:\n",
    "    theta_value = theta.eval()\n",
    "\n",
    "# Make the compute graph\n",
    "X_new = tf.constant(housing_data_wo_median_age_plus_bias, dtype=tf.float64, name=\"X_new\")\n",
    "XT_new = tf.transpose(X_new)\n",
    "y_new = tf.constant(housing_target.reshape(-1, 1), dtype=tf.float64, name=\"y_new\")\n",
    "\n",
    "theta_new = tf.matmul(tf.matmul(tf.matrix_inverse(tf.matmul(XT_new, X_new)), XT_new), y_new)\n",
    "\n",
    "# Run the compute graph\n",
    "with tf.Session() as sess:\n",
    "    theta_value_new = theta_new.eval()"
   ]
  },
  {
   "cell_type": "code",
   "execution_count": 41,
   "metadata": {},
   "outputs": [
    {
     "output_type": "execute_result",
     "data": {
      "text/plain": [
       "array([[-3.59402294e+06],\n",
       "       [-4.28237438e+04],\n",
       "       [-4.25767219e+04],\n",
       "       [ 1.15630387e+03],\n",
       "       [-8.18164928e+00],\n",
       "       [ 1.13410689e+02],\n",
       "       [-3.85350953e+01],\n",
       "       [ 4.83082868e+01],\n",
       "       [ 4.02485142e+04]])"
      ]
     },
     "metadata": {},
     "execution_count": 41
    }
   ],
   "source": [
    "# For fun, show the linear regression model (i.e. the coefficients of the linear equation)\n",
    "theta_value"
   ]
  },
  {
   "cell_type": "code",
   "execution_count": 60,
   "metadata": {},
   "outputs": [
    {
     "output_type": "execute_result",
     "data": {
      "text/plain": [
       "array([[-4.01525551e+06],\n",
       "       [-4.81217697e+04],\n",
       "       [-4.73101081e+04],\n",
       "       [-9.46896545e+00],\n",
       "       [ 1.05318020e+02],\n",
       "       [-3.96293049e+01],\n",
       "       [ 5.49341256e+01],\n",
       "       [ 3.90912171e+04]])"
      ]
     },
     "metadata": {},
     "execution_count": 60
    }
   ],
   "source": [
    "theta_value_new"
   ]
  },
  {
   "cell_type": "code",
   "execution_count": 63,
   "metadata": {
    "collapsed": true
   },
   "outputs": [],
   "source": [
    "# Now we'll do an inference to predict a value with the model\n",
    "# We will use house_data[0] as if it had been received as input to the inference service\n",
    "\n",
    "# TODO: This can be rewritten as TensorFlow code at some point, but that would be more typical of \n",
    "#       larger models. At only 9 iterations, this would likely be slower as TensorFlow code\n",
    "\n",
    "# Start by setting the predicted value equal to the linear equation's constant term\n",
    "predicted_value = theta_value[0][0]\n",
    "\n",
    "# Get the coefficients of the features (i.e. exclude the constant term accounted for above)\n",
    "coefficients = theta_value[1:]\n",
    "\n",
    "# For each feature (independent variable), add to the predicted value the product\n",
    "# of the coefficient for the feature (c = theta_value[j+1]) and the j^th feature of\n",
    "# the inference service input data (represented by housing_data[0])\n",
    "for j, c in enumerate(coefficients):\n",
    "    predicted_value += c[0] * housing_data[0][j]\n",
    "\n",
    "## wo housing median age\n",
    "\n",
    "# Start by setting the predicted value equal to the linear equation's constant term\n",
    "predicted_value_new = theta_value_new[0][0]\n",
    "\n",
    "# Get the coefficients of the features (i.e. exclude the constant term accounted for above)\n",
    "coefficients = theta_value_new[1:]\n",
    "\n",
    "# For each feature (independent variable), add to the predicted value the product\n",
    "# of the coefficient for the feature (c = theta_value[j+1]) and the j^th feature of\n",
    "# the inference service input data (represented by housing_data[0])\n",
    "for j, c in enumerate(coefficients):\n",
    "    predicted_value_new += c[0] * housing_data_wo_median_age[0][j]"
   ]
  },
  {
   "cell_type": "code",
   "execution_count": 64,
   "metadata": {},
   "outputs": [
    {
     "output_type": "execute_result",
     "data": {
      "text/plain": [
       "411111.0960673626"
      ]
     },
     "metadata": {},
     "execution_count": 64
    }
   ],
   "source": [
    "# For fun, show the predicted value\n",
    "predicted_value"
   ]
  },
  {
   "cell_type": "code",
   "execution_count": 65,
   "metadata": {},
   "outputs": [
    {
     "output_type": "execute_result",
     "data": {
      "text/plain": [
       "399418.09910690103"
      ]
     },
     "metadata": {},
     "execution_count": 65
    }
   ],
   "source": [
    "predicted_value_new"
   ]
  },
  {
   "cell_type": "code",
   "execution_count": 66,
   "metadata": {
    "collapsed": true
   },
   "outputs": [],
   "source": [
    "# This is some earlier code written to do the predictions on all items of training data,\n",
    "# but this batch processing of predictions is NOT the baseline use case exepcted for CP10 and CP47 services\n",
    "\n",
    "# Start by setting each predicted value equal to the linear equation's constant term\n",
    "predicted_values = np.full((m), theta_value[0][0])\n",
    "\n",
    "# Get the coefficients of the features (i.e. exclude the constant term accounted for above)\n",
    "coefficients = theta_value[1:]\n",
    "\n",
    "# For each of the m rows of housing data, update the predicted value (y) as follows:\n",
    "    # For each feature (independent variable), add to the predicted value the product\n",
    "    # of the coefficient for the feature (c = theta_value[j+1]) and the i^th row's\n",
    "    # housing data value for the jth feature\n",
    "\n",
    "for i, x in enumerate(housing_data):\n",
    "    for j, c in enumerate(coefficients):\n",
    "        predicted_values[i] += c * x[j]\n",
    "\n",
    "## wo housing median age\n",
    "\n",
    "# Start by setting each predicted value equal to the linear equation's constant term\n",
    "predicted_values_new = np.full((m), theta_value_new[0][0])\n",
    "\n",
    "# Get the coefficients of the features (i.e. exclude the constant term accounted for above)\n",
    "coefficients_new = theta_value_new[1:]\n",
    "\n",
    "# For each of the m rows of housing data, update the predicted value (y) as follows:\n",
    "    # For each feature (independent variable), add to the predicted value the product\n",
    "    # of the coefficient for the feature (c = theta_value[j+1]) and the i^th row's\n",
    "    # housing data value for the jth feature\n",
    "\n",
    "for i, x in enumerate(housing_data_wo_median_age):\n",
    "    for j, c in enumerate(coefficients_new):\n",
    "        predicted_values_new[i] += c * x[j]\n"
   ]
  },
  {
   "cell_type": "code",
   "execution_count": 67,
   "metadata": {},
   "outputs": [
    {
     "output_type": "execute_result",
     "data": {
      "text/plain": [
       "array([411111.09606736, 416144.49078913, 380432.65417758, ...,\n",
       "        25026.16974685,  37991.1962575 ,  55550.98309739])"
      ]
     },
     "metadata": {},
     "execution_count": 67
    }
   ],
   "source": [
    "# For fun, show the batch of predicted values\n",
    "predicted_values"
   ]
  },
  {
   "cell_type": "code",
   "execution_count": 68,
   "metadata": {},
   "outputs": [
    {
     "output_type": "execute_result",
     "data": {
      "text/plain": [
       "array([399418.0991069 , 416164.93258692, 356349.27629564, ...,\n",
       "        32698.87206888,  45700.63192889,  62456.24038142])"
      ]
     },
     "metadata": {},
     "execution_count": 68
    }
   ],
   "source": [
    "predicted_values_new"
   ]
  },
  {
   "cell_type": "code",
   "execution_count": 69,
   "metadata": {
    "collapsed": true
   },
   "outputs": [],
   "source": [
    "## For when you want to wipe out the training and do it again\n",
    "# !rm -rf \"../datasets/Linear Regression\""
   ]
  },
  {
   "cell_type": "code",
   "execution_count": 70,
   "metadata": {},
   "outputs": [
    {
     "output_type": "execute_result",
     "data": {
      "text/plain": [
       "array([452600., 358500., 352100., ...,  92300.,  84700.,  89400.])"
      ]
     },
     "metadata": {},
     "execution_count": 70
    }
   ],
   "source": [
    "# Get a flattened version of the house prices to use in R2 calculations below\n",
    "y_actual = np.ndarray.flatten(housing_target)\n",
    "y_actual"
   ]
  },
  {
   "cell_type": "code",
   "execution_count": 71,
   "metadata": {},
   "outputs": [
    {
     "output_type": "execute_result",
     "data": {
      "text/plain": [
       "0.6371056229223446"
      ]
     },
     "metadata": {},
     "execution_count": 71
    }
   ],
   "source": [
    "# Calculate R^2 using the scikit learn function. This measures the quality of the regression model.\n",
    "from sklearn.metrics import r2_score\n",
    "R2 = r2_score(y_actual, predicted_values)\n",
    "R2"
   ]
  },
  {
   "cell_type": "code",
   "execution_count": 72,
   "metadata": {},
   "outputs": [
    {
     "output_type": "execute_result",
     "data": {
      "text/plain": [
       "0.6244845346232525"
      ]
     },
     "metadata": {},
     "execution_count": 72
    }
   ],
   "source": [
    "R2_new = r2_score(y_actual, predicted_values_new)\n",
    "R2_new"
   ]
  },
  {
   "cell_type": "code",
   "execution_count": 73,
   "metadata": {},
   "outputs": [
    {
     "output_type": "execute_result",
     "data": {
      "text/plain": [
       "206855.81690891474"
      ]
     },
     "metadata": {},
     "execution_count": 73
    }
   ],
   "source": [
    "# Now we'll do it manually to help understand how R^2 characterizes regression model quality\n",
    "# We start with the mean of the actual dependent variable\n",
    "y_bar = np.mean(y_actual)\n",
    "y_bar"
   ]
  },
  {
   "cell_type": "code",
   "execution_count": 27,
   "metadata": {},
   "outputs": [
    {
     "output_type": "execute_result",
     "data": {
      "text/plain": [
       "274831981936881.9"
      ]
     },
     "metadata": {},
     "execution_count": 27
    }
   ],
   "source": [
    "# Now we'll compute the data set variance from the mean (total sum of squared differences)\n",
    "SStot = 0.0\n",
    "for y_i in y_actual:\n",
    "    diff = float(y_i - y_bar)\n",
    "    SStot += (diff * diff)\n",
    "SStot"
   ]
  },
  {
   "cell_type": "code",
   "execution_count": 28,
   "metadata": {},
   "outputs": [
    {
     "output_type": "execute_result",
     "data": {
      "text/plain": [
       "175097001050940.38"
      ]
     },
     "metadata": {},
     "execution_count": 28
    }
   ],
   "source": [
    "# Now we compute the amount that the regression model's predicted values vary from the mean.\n",
    "# This is the sum of squared differences between the predicted values and the mean\n",
    "SSreg = 0.0\n",
    "for f_i in predicted_values:\n",
    "    diff = float(f_i - y_bar)\n",
    "    SSreg += (diff * diff)\n",
    "SSreg"
   ]
  },
  {
   "cell_type": "code",
   "execution_count": 74,
   "metadata": {},
   "outputs": [
    {
     "output_type": "execute_result",
     "data": {
      "text/plain": [
       "171628322339620.7"
      ]
     },
     "metadata": {},
     "execution_count": 74
    }
   ],
   "source": [
    "SSreg_new = 0.0\n",
    "for f_i in predicted_values_new:\n",
    "    diff_new = float(f_i - y_bar)\n",
    "    SSreg_new += (diff_new * diff_new)\n",
    "SSreg_new"
   ]
  },
  {
   "cell_type": "code",
   "execution_count": 75,
   "metadata": {},
   "outputs": [
    {
     "output_type": "execute_result",
     "data": {
      "text/plain": [
       "0.6371056229225653"
      ]
     },
     "metadata": {},
     "execution_count": 75
    }
   ],
   "source": [
    "# The R squared is just the ratio. It gives the percentage of the variance from the mean \n",
    "# that is accounted for by using the regression model to predict values instead of just\n",
    "# always using the mean as the predicted value for any observation in the group.\n",
    "R_squared = SSreg / SStot\n",
    "R_squared"
   ]
  },
  {
   "cell_type": "code",
   "execution_count": 53,
   "metadata": {},
   "outputs": [
    {
     "output_type": "execute_result",
     "data": {
      "text/plain": [
       "0.6244845346239105"
      ]
     },
     "metadata": {},
     "execution_count": 53
    }
   ],
   "source": [
    "R_squared_new = SSreg_new / SStot\n",
    "R_squared_new"
   ]
  },
  {
   "cell_type": "code",
   "execution_count": 30,
   "metadata": {},
   "outputs": [
    {
     "output_type": "execute_result",
     "data": {
      "text/plain": [
       "99734980886002.8"
      ]
     },
     "metadata": {},
     "execution_count": 30
    }
   ],
   "source": [
    "# A second way to think about this is to consider the amount of remaining error,\n",
    "# i.e. the amount of remaining or 'residual' variance between the actual data points \n",
    "# and the regression model's predicted values\n",
    "SSres = 0.0\n",
    "for i, f_i in enumerate(predicted_values):\n",
    "    diff = float(f_i - y_actual[i])\n",
    "    SSres += (diff * diff)\n",
    "SSres"
   ]
  },
  {
   "cell_type": "code",
   "execution_count": 54,
   "metadata": {},
   "outputs": [
    {
     "output_type": "execute_result",
     "data": {
      "text/plain": [
       "103203659597442.86"
      ]
     },
     "metadata": {},
     "execution_count": 54
    }
   ],
   "source": [
    "SSres_new = 0.0\n",
    "for i, f_i in enumerate(predicted_values_new):\n",
    "    diff_new = float(f_i - y_actual[i])\n",
    "    SSres_new += (diff_new * diff_new)\n",
    "SSres_new"
   ]
  },
  {
   "cell_type": "code",
   "execution_count": 31,
   "metadata": {},
   "outputs": [
    {
     "output_type": "execute_result",
     "data": {
      "text/plain": [
       "0.6371056229223424"
      ]
     },
     "metadata": {},
     "execution_count": 31
    }
   ],
   "source": [
    "# So R squared can also be computed based on the percentage of leftover (residual) variance\n",
    "R_squared = 1.0 - SSres / SStot\n",
    "R_squared"
   ]
  },
  {
   "cell_type": "code",
   "execution_count": 55,
   "metadata": {},
   "outputs": [
    {
     "output_type": "execute_result",
     "data": {
      "text/plain": [
       "0.6244845346232497"
      ]
     },
     "metadata": {},
     "execution_count": 55
    }
   ],
   "source": [
    "R_squared_new = 1.0 - SSres_new / SStot\n",
    "R_squared_new"
   ]
  }
 ],
 "metadata": {
  "kernelspec": {
   "display_name": "Python 3",
   "language": "python",
   "name": "python3"
  },
  "language_info": {
   "codemirror_mode": {
    "name": "ipython",
    "version": 3
   },
   "file_extension": ".py",
   "mimetype": "text/x-python",
   "name": "python",
   "nbconvert_exporter": "python",
   "pygments_lexer": "ipython3",
   "version": "3.7.7-final"
  }
 },
 "nbformat": 4,
 "nbformat_minor": 2
}